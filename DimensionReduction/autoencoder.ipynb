{
 "cells": [
  {
   "cell_type": "markdown",
   "metadata": {},
   "source": [
    "## UnderComplete Autoencoders\n"
   ]
  },
  {
   "cell_type": "code",
   "execution_count": 1,
   "metadata": {},
   "outputs": [
    {
     "name": "stdout",
     "output_type": "stream",
     "text": [
      "Using /home/ec2-user/wspace/libs/spark-2.2.0\n",
      "Prepending /home/ec2-user/.local/lib/python3.4/site-packages/bigdl/share/conf/spark-bigdl.conf to sys.path\n"
     ]
    }
   ],
   "source": [
    "# necessary imports\n",
    "%matplotlib inline\n",
    "\n",
    "\n",
    "import numpy as np\n",
    "import datetime as dt\n",
    "import matplotlib.pyplot as plt\n",
    "from matplotlib.pyplot import imshow\n",
    "# some imports from bigdl\n",
    "from bigdl.nn.layer import *\n",
    "from bigdl.nn.criterion import *\n",
    "from bigdl.optim.optimizer import *\n",
    "from bigdl.util.common import *\n",
    "from bigdl.dataset.transformer import *\n",
    "\n",
    "\n",
    "\n",
    "from pyspark import SparkContext\n",
    "sc=SparkContext.getOrCreate(conf=create_spark_conf().setMaster(\"local[4]\").set(\"spark.driver.memory\",\"2g\"))\n",
    "\n",
    "# function to initialize the bigdl library\n",
    "init_engine()"
   ]
  },
  {
   "cell_type": "code",
   "execution_count": 2,
   "metadata": {},
   "outputs": [
    {
     "name": "stdout",
     "output_type": "stream",
     "text": [
      "Extracting mnist/train-images-idx3-ubyte.gz\n",
      "Extracting mnist/train-labels-idx1-ubyte.gz\n",
      "total number of images  60000\n"
     ]
    }
   ],
   "source": [
    "# bigdl provides a nice function for downloading and reading mnist dataset\n",
    "\n",
    "from bigdl.dataset import mnist\n",
    "mnist_path = \"mnist\"\n",
    "images_train, labels_train = mnist.read_data_sets(mnist_path, \"train\")\n",
    "\n",
    "\n",
    "# mean and stddev of the pixel values\n",
    "\n",
    "mean = np.mean(images_train)\n",
    "std = np.std(images_train)\n",
    "\n",
    "# parallelize, center and scale the images_train\n",
    "rdd_images =  sc.parallelize(images_train).map(lambda features: (features - mean)/std)\n",
    "\n",
    "\n",
    "print(\"total number of images \",rdd_images.count())"
   ]
  },
  {
   "cell_type": "code",
   "execution_count": 4,
   "metadata": {},
   "outputs": [],
   "source": [
    "# Parameters for training\n",
    "\n",
    "BATCH_SIZE = 100\n",
    "NUM_EPOCHS = 2\n",
    "\n",
    "# Network Parameters\n",
    "SIZE_HIDDEN = 32\n",
    "# shape of the input data\n",
    "SIZE_INPUT = 784 "
   ]
  },
  {
   "cell_type": "code",
   "execution_count": 5,
   "metadata": {},
   "outputs": [],
   "source": [
    "# function for creating an autoencoder\n",
    "\n",
    "def get_autoencoder(hidden_size, input_size):\n",
    "    \n",
    "    # Initialize a sequential type container\n",
    "    module = Sequential()\n",
    "\n",
    "    # create encoder layers\n",
    "    module.add(Linear(input_size, hidden_size))\n",
    "    module.add(ReLU())\n",
    "    \n",
    "    \n",
    "    # create decoder layers\n",
    "    module.add(Linear(hidden_size, input_size))\n",
    "    module.add(Sigmoid())\n",
    "    \n",
    "    return(module)\n",
    "\n"
   ]
  },
  {
   "cell_type": "code",
   "execution_count": 6,
   "metadata": {},
   "outputs": [
    {
     "name": "stdout",
     "output_type": "stream",
     "text": [
      "creating: createSequential\n",
      "creating: createLinear\n",
      "creating: createReLU\n",
      "creating: createLinear\n",
      "creating: createSigmoid\n",
      "creating: createMSECriterion\n",
      "creating: createAdam\n",
      "creating: createMaxEpoch\n",
      "creating: createOptimizer\n",
      "creating: createTrainSummary\n",
      "logs to saved to  undercomplete_autoencoder-20171202-085856\n"
     ]
    }
   ],
   "source": [
    "undercomplete_ae = get_autoencoder( SIZE_HIDDEN, SIZE_INPUT)\n",
    "\n",
    "# transform dataset to rdd(Sample) from rdd(ndarray). Sample represents a record in the dataset. A sample \n",
    "# consists of two tensors a features tensor and a label tensor. In our autoencoder features and label will be same\n",
    "train_data = rdd_images.map(lambda x: Sample.from_ndarray(x.reshape(28*28), x.reshape(28*28)))\n",
    "\n",
    "# Create an Optimizer\n",
    "optimizer = Optimizer(\n",
    "    model = undercomplete_ae,\n",
    "    training_rdd = train_data,\n",
    "    criterion = MSECriterion(),\n",
    "    optim_method = Adam(),\n",
    "    end_trigger = MaxEpoch(NUM_EPOCHS),\n",
    "    batch_size = BATCH_SIZE)\n",
    "\n",
    "# write summary \n",
    "app_name='undercomplete_autoencoder-'+dt.datetime.now().strftime(\"%Y%m%d-%H%M%S\")\n",
    "train_summary = TrainSummary(log_dir='/tmp/bigdl_summary',\n",
    "                                     app_name=app_name)\n",
    "\n",
    "\n",
    "optimizer.set_train_summary(train_summary)\n",
    "\n",
    "print(\"logs to saved to \",app_name)"
   ]
  },
  {
   "cell_type": "code",
   "execution_count": 7,
   "metadata": {},
   "outputs": [],
   "source": [
    "# run training process\n",
    "trained_UAE = optimizer.optimize()\n"
   ]
  },
  {
   "cell_type": "code",
   "execution_count": 9,
   "metadata": {},
   "outputs": [
    {
     "name": "stdout",
     "output_type": "stream",
     "text": [
      "Extracting mnist/t10k-images-idx3-ubyte.gz\n",
      "Extracting mnist/t10k-labels-idx1-ubyte.gz\n"
     ]
    },
    {
     "data": {
      "image/png": "[encoded data removed]",
      "text/plain": [
       "<matplotlib.figure.Figure at 0x7ff842e8e9e8>"
      ]
     },
     "metadata": {},
     "output_type": "display_data"
    }
   ],
   "source": [
    "# let's check our model performance on the test data\n",
    "\n",
    "(images, labels) = mnist.read_data_sets(mnist_path, \"test\")\n",
    "rdd_test =  sc.parallelize(images).map(lambda features: ((features - mean)/std).reshape(28*28)).map(\n",
    "                                                lambda features: Sample.from_ndarray(features, features))\n",
    "examples = trained_UAE.predict(rdd_test).take(10)\n",
    "f, a = plt.subplots(2, 10, figsize=(10, 2))\n",
    "for i in range(10):\n",
    "    a[0][i].imshow(np.reshape(images[i], (28, 28)))\n",
    "    a[1][i].imshow(np.reshape(examples[i], (28, 28)))"
   ]
  }
 ],
 "metadata": {
  "kernelspec": {
   "display_name": "Python 3",
   "language": "python",
   "name": "python3"
  },
  "language_info": {
   "codemirror_mode": {
    "name": "ipython",
    "version": 3
   },
   "file_extension": ".py",
   "mimetype": "text/x-python",
   "name": "python",
   "nbconvert_exporter": "python",
   "pygments_lexer": "ipython3",
   "version": "3.5.2"
  }
 },
 "nbformat": 4,
 "nbformat_minor": 2
}

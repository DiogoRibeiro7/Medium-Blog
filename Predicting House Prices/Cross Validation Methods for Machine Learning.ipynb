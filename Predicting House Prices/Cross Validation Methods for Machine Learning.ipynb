{
 "cells": [
  {
   "cell_type": "markdown",
   "metadata": {},
   "source": [
    "# Cross Validation Methods "
   ]
  },
  {
   "cell_type": "markdown",
   "metadata": {},
   "source": [
    "In the Predicting House Prices with Linear Regression project, I talked a little bit about model evaluation. Specifically, I talked about cross validation. I want to expand on this topic.\n",
    "\n",
    "\n",
    "\n",
    "Let's assume this dataset has been fully cleaned and processed. We are interested in using a linear regression model on this dataset. However, we need a way to evaluate this model's performance.\n",
    "\n",
    "Specifically, we need to know how well this model will perform with new data. The best way to investigate this idea is to use an example. I've exported my previous project into csv file named \"AmesHousinFinal.csv\". \n",
    "\n",
    "Starting with imports and a brief look at the dataset:"
   ]
  },
  {
   "cell_type": "code",
   "execution_count": 1,
   "metadata": {},
   "outputs": [
    {
     "name": "stdout",
     "output_type": "stream",
     "text": [
      "(1570, 87)\n"
     ]
    },
    {
     "data": {
      "text/html": [
       "<div>\n",
       "<style scoped>\n",
       "    .dataframe tbody tr th:only-of-type {\n",
       "        vertical-align: middle;\n",
       "    }\n",
       "\n",
       "    .dataframe tbody tr th {\n",
       "        vertical-align: top;\n",
       "    }\n",
       "\n",
       "    .dataframe thead th {\n",
       "        text-align: right;\n",
       "    }\n",
       "</style>\n",
       "<table border=\"1\" class=\"dataframe\">\n",
       "  <thead>\n",
       "    <tr style=\"text-align: right;\">\n",
       "      <th></th>\n",
       "      <th>SalePrice</th>\n",
       "      <th>Overall Qual</th>\n",
       "      <th>Gr Liv Area</th>\n",
       "      <th>Garage Cars</th>\n",
       "      <th>Garage Area</th>\n",
       "      <th>years_to_sell</th>\n",
       "      <th>Total Bsmt SF</th>\n",
       "      <th>1st Flr SF</th>\n",
       "      <th>Full Bath</th>\n",
       "      <th>Garage Yr Blt</th>\n",
       "      <th>...</th>\n",
       "      <th>MS SubClass_60</th>\n",
       "      <th>MS SubClass_70</th>\n",
       "      <th>MS SubClass_75</th>\n",
       "      <th>MS SubClass_80</th>\n",
       "      <th>MS SubClass_85</th>\n",
       "      <th>MS SubClass_90</th>\n",
       "      <th>MS SubClass_120</th>\n",
       "      <th>MS SubClass_160</th>\n",
       "      <th>MS SubClass_180</th>\n",
       "      <th>MS SubClass_190</th>\n",
       "    </tr>\n",
       "  </thead>\n",
       "  <tbody>\n",
       "    <tr>\n",
       "      <th>0</th>\n",
       "      <td>215000</td>\n",
       "      <td>6</td>\n",
       "      <td>1656</td>\n",
       "      <td>2.0</td>\n",
       "      <td>528.0</td>\n",
       "      <td>50</td>\n",
       "      <td>1080.0</td>\n",
       "      <td>1656</td>\n",
       "      <td>1</td>\n",
       "      <td>1960.0</td>\n",
       "      <td>...</td>\n",
       "      <td>0</td>\n",
       "      <td>0</td>\n",
       "      <td>0</td>\n",
       "      <td>0</td>\n",
       "      <td>0</td>\n",
       "      <td>0</td>\n",
       "      <td>0</td>\n",
       "      <td>0</td>\n",
       "      <td>0</td>\n",
       "      <td>0</td>\n",
       "    </tr>\n",
       "    <tr>\n",
       "      <th>1</th>\n",
       "      <td>105000</td>\n",
       "      <td>5</td>\n",
       "      <td>896</td>\n",
       "      <td>1.0</td>\n",
       "      <td>730.0</td>\n",
       "      <td>49</td>\n",
       "      <td>882.0</td>\n",
       "      <td>896</td>\n",
       "      <td>1</td>\n",
       "      <td>1961.0</td>\n",
       "      <td>...</td>\n",
       "      <td>0</td>\n",
       "      <td>0</td>\n",
       "      <td>0</td>\n",
       "      <td>0</td>\n",
       "      <td>0</td>\n",
       "      <td>0</td>\n",
       "      <td>0</td>\n",
       "      <td>0</td>\n",
       "      <td>0</td>\n",
       "      <td>0</td>\n",
       "    </tr>\n",
       "    <tr>\n",
       "      <th>2</th>\n",
       "      <td>172000</td>\n",
       "      <td>6</td>\n",
       "      <td>1329</td>\n",
       "      <td>1.0</td>\n",
       "      <td>312.0</td>\n",
       "      <td>52</td>\n",
       "      <td>1329.0</td>\n",
       "      <td>1329</td>\n",
       "      <td>1</td>\n",
       "      <td>1958.0</td>\n",
       "      <td>...</td>\n",
       "      <td>0</td>\n",
       "      <td>0</td>\n",
       "      <td>0</td>\n",
       "      <td>0</td>\n",
       "      <td>0</td>\n",
       "      <td>0</td>\n",
       "      <td>0</td>\n",
       "      <td>0</td>\n",
       "      <td>0</td>\n",
       "      <td>0</td>\n",
       "    </tr>\n",
       "    <tr>\n",
       "      <th>3</th>\n",
       "      <td>244000</td>\n",
       "      <td>7</td>\n",
       "      <td>2110</td>\n",
       "      <td>2.0</td>\n",
       "      <td>522.0</td>\n",
       "      <td>42</td>\n",
       "      <td>2110.0</td>\n",
       "      <td>2110</td>\n",
       "      <td>2</td>\n",
       "      <td>1968.0</td>\n",
       "      <td>...</td>\n",
       "      <td>0</td>\n",
       "      <td>0</td>\n",
       "      <td>0</td>\n",
       "      <td>0</td>\n",
       "      <td>0</td>\n",
       "      <td>0</td>\n",
       "      <td>0</td>\n",
       "      <td>0</td>\n",
       "      <td>0</td>\n",
       "      <td>0</td>\n",
       "    </tr>\n",
       "    <tr>\n",
       "      <th>4</th>\n",
       "      <td>195500</td>\n",
       "      <td>6</td>\n",
       "      <td>1604</td>\n",
       "      <td>2.0</td>\n",
       "      <td>470.0</td>\n",
       "      <td>12</td>\n",
       "      <td>926.0</td>\n",
       "      <td>926</td>\n",
       "      <td>2</td>\n",
       "      <td>1998.0</td>\n",
       "      <td>...</td>\n",
       "      <td>1</td>\n",
       "      <td>0</td>\n",
       "      <td>0</td>\n",
       "      <td>0</td>\n",
       "      <td>0</td>\n",
       "      <td>0</td>\n",
       "      <td>0</td>\n",
       "      <td>0</td>\n",
       "      <td>0</td>\n",
       "      <td>0</td>\n",
       "    </tr>\n",
       "  </tbody>\n",
       "</table>\n",
       "<p>5 rows × 87 columns</p>\n",
       "</div>"
      ],
      "text/plain": [
       "   SalePrice  Overall Qual  Gr Liv Area  Garage Cars  Garage Area  \\\n",
       "0     215000             6         1656          2.0        528.0   \n",
       "1     105000             5          896          1.0        730.0   \n",
       "2     172000             6         1329          1.0        312.0   \n",
       "3     244000             7         2110          2.0        522.0   \n",
       "4     195500             6         1604          2.0        470.0   \n",
       "\n",
       "   years_to_sell  Total Bsmt SF  1st Flr SF  Full Bath  Garage Yr Blt  ...  \\\n",
       "0             50         1080.0        1656          1         1960.0  ...   \n",
       "1             49          882.0         896          1         1961.0  ...   \n",
       "2             52         1329.0        1329          1         1958.0  ...   \n",
       "3             42         2110.0        2110          2         1968.0  ...   \n",
       "4             12          926.0         926          2         1998.0  ...   \n",
       "\n",
       "   MS SubClass_60  MS SubClass_70  MS SubClass_75  MS SubClass_80  \\\n",
       "0               0               0               0               0   \n",
       "1               0               0               0               0   \n",
       "2               0               0               0               0   \n",
       "3               0               0               0               0   \n",
       "4               1               0               0               0   \n",
       "\n",
       "   MS SubClass_85  MS SubClass_90  MS SubClass_120  MS SubClass_160  \\\n",
       "0               0               0                0                0   \n",
       "1               0               0                0                0   \n",
       "2               0               0                0                0   \n",
       "3               0               0                0                0   \n",
       "4               0               0                0                0   \n",
       "\n",
       "   MS SubClass_180  MS SubClass_190  \n",
       "0                0                0  \n",
       "1                0                0  \n",
       "2                0                0  \n",
       "3                0                0  \n",
       "4                0                0  \n",
       "\n",
       "[5 rows x 87 columns]"
      ]
     },
     "execution_count": 1,
     "metadata": {},
     "output_type": "execute_result"
    }
   ],
   "source": [
    "import pandas as pd\n",
    "import numpy as np\n",
    "import time\n",
    "from sklearn.linear_model import LinearRegression\n",
    "from sklearn.metrics import mean_squared_error\n",
    "from sklearn.model_selection import KFold\n",
    "\n",
    "\n",
    "data = pd.read_csv(\"AmesHousingFinal.csv\")\n",
    "print(data.shape)\n",
    "data.head()"
   ]
  },
  {
   "cell_type": "markdown",
   "metadata": {},
   "source": [
    "### Method 1: Holdout Validation\n",
    "\n",
    "We are interested in creating a model that can predict the \"Sale Price\" with the features given in data. The first method is to slice up our dataset into two parts:\n",
    "\n",
    "+ A training set to fit the model.\n",
    "+ A testing set to predict our results.\n",
    "\n",
    "<div style=\"text-align:center\">\n",
    "<img src = \"images/cross-validation/method1.PNG\"\n",
    "alt=\"holdout validation diagram\"/>\n",
    "</div>\n",
    "\n",
    "We can then compare the predictions from the testing set with the actual data using RMSE as the error metric."
   ]
  },
  {
   "cell_type": "code",
   "execution_count": 2,
   "metadata": {},
   "outputs": [
    {
     "name": "stdout",
     "output_type": "stream",
     "text": [
      "RMSE:\n",
      "28749.561761555196\n"
     ]
    }
   ],
   "source": [
    "#93% of the data as training set\n",
    "train = data[0:1460]\n",
    "test = data[1460:]\n",
    "features = data.columns.drop(['SalePrice'])\n",
    "\n",
    "#train\n",
    "lr = LinearRegression()\n",
    "lr.fit(train[features], train['SalePrice'])\n",
    "\n",
    "#predict\n",
    "predictions = lr.predict(test[features])\n",
    "rmse = mean_squared_error(test['SalePrice'], predictions)**0.5\n",
    "print('RMSE:')\n",
    "print(rmse)"
   ]
  },
  {
   "cell_type": "markdown",
   "metadata": {},
   "source": [
    "We got ~28749 as our root mean squared error. But can we really use this value as a metric to evaluate our model? \n",
    "\n",
    "What happens if we shuffle the dataset arround? We would get a brand new RMSE value!"
   ]
  },
  {
   "cell_type": "code",
   "execution_count": 3,
   "metadata": {},
   "outputs": [
    {
     "data": {
      "text/plain": [
       "{0: 29156.98404803793,\n",
       " 1: 29005.494913308787,\n",
       " 2: 26306.49717295175,\n",
       " 3: 32018.8213594359,\n",
       " 4: 31543.21579269828,\n",
       " 5: 66453.98446604444,\n",
       " 6: 35640.22774097788,\n",
       " 7: 34044.8040887492,\n",
       " 8: 28225.124902220443,\n",
       " 9: 39500.73574601386}"
      ]
     },
     "execution_count": 3,
     "metadata": {},
     "output_type": "execute_result"
    }
   ],
   "source": [
    "random_seeds = {}\n",
    "for i in range(10):\n",
    "    np.random.seed(i)\n",
    "    randomed_index = np.random.permutation(data.index)\n",
    "    randomed_df = data.reindex(randomed_index)\n",
    "\n",
    "    train = randomed_df[0:1460]\n",
    "    test = randomed_df[1460:]\n",
    "    features = randomed_df.columns.drop(['SalePrice'])\n",
    "\n",
    "    lr = LinearRegression()\n",
    "    lr.fit(train[features], train['SalePrice'])\n",
    "\n",
    "    predictions = lr.predict(test[features])\n",
    "    rmse = mean_squared_error(test['SalePrice'], predictions)**0.5\n",
    "    random_seeds[i]=rmse\n",
    "random_seeds"
   ]
  },
  {
   "cell_type": "markdown",
   "metadata": {},
   "source": [
    "The output above is a dictionary with random seeds as the keys and RMSE as the values. We are getting drastically different RMSE values depending on how we slice up our data. \n",
    "\n",
    "So how do we know if the model is actually good at predicting new data? "
   ]
  },
  {
   "cell_type": "markdown",
   "metadata": {},
   "source": [
    "### Method 2: K-Fold Cross Validation\n",
    "\n",
    "This is where cross validation is really useful. Suppose we split the data set into four blocks (K = 4). We can train four linear regression models with each block being the test set once. The rest of the data will be the training set.\n",
    "\n",
    "<div style=\"text-align:center\">\n",
    "<img src = images/cross-validation/Kfold.PNG\n",
    "alt=\"K-Fold Cross validation Diagram\" style=\"width:800px;\"/>\n",
    "</div>\n",
    "\n",
    "Each one of these model will have its own error, in our this case this error will be the RMSE. We can evaluate the model based on the average error from the four models. This method is useful because we are eliminating some of the selection bias. In the first method, only part of the data end up as the training set. In cross validation, all of the data end up in both the training set and the testing set."
   ]
  },
  {
   "cell_type": "code",
   "execution_count": 4,
   "metadata": {},
   "outputs": [
    {
     "name": "stdout",
     "output_type": "stream",
     "text": [
      "RMSE from the four models:\n",
      "[30916.82796137624, 31938.177268887655, 41078.25075425058, 36185.8346785463]\n",
      "----\n",
      "Average RMSE:\n",
      "35029.772665765195\n"
     ]
    }
   ],
   "source": [
    "kf = KFold(n_splits=4, shuffle=True, random_state = 7)\n",
    "\n",
    "rmse_list = []\n",
    "for train_index, test_index in kf.split(data):\n",
    "    train = data.iloc[train_index]\n",
    "    test = data.iloc[test_index]\n",
    "    features = data.columns.drop(['SalePrice'])\n",
    "    \n",
    "    #train\n",
    "    lr.fit(train[features], train['SalePrice'])\n",
    "        \n",
    "    #predict    \n",
    "    predictions = lr.predict(test[features])\n",
    "        \n",
    "    rmse = mean_squared_error(test['SalePrice'], predictions)**0.5\n",
    "    rmse_list.append(rmse)\n",
    "print('RMSE from the four models:')\n",
    "print(rmse_list)\n",
    "print('----')\n",
    "print('Average RMSE:')\n",
    "print(np.mean(rmse_list))"
   ]
  },
  {
   "cell_type": "markdown",
   "metadata": {},
   "source": [
    "### Method 3: Leave One Out Validation\n",
    "\n",
    "So what happens if we take K to the extreme, and set K = n. Where n is the number of rows in a dataset. We are going to train n number of models. Each one of these models will have one row as the testing set, and the rest of the data as the training set.\n",
    "\n",
    "<div style=\"text-align:center\">\n",
    "<img src = images/cross-validation/leaveoneout.PNG\n",
    "alt=\"Leave One Out Validation Diagram\" style=\"width:800px;\"/>\n",
    "</div>\n",
    "\n",
    "\n",
    "We generate n number of models. Each one of these models will use every single row except for one row as the training set. Then we'll test the model with the row that was not a part of the training set. Finally, we check the error of this model. \n",
    "\n",
    "This process gets repeated until all of the rows in our dataset get tested. Once that is complete, we can compute the average error to see how well the model performed.\n",
    "\n",
    "The biggest drawback to this method is the computation time. We can use the time module from python to determine how long it takes to complete the process."
   ]
  },
  {
   "cell_type": "code",
   "execution_count": 5,
   "metadata": {},
   "outputs": [
    {
     "name": "stdout",
     "output_type": "stream",
     "text": [
      "Processing time:\n",
      "15.32140150755418 seconds\n",
      "----\n",
      "Average RMSE:\n",
      "21428.449121978723\n"
     ]
    }
   ],
   "source": [
    "kf = KFold(n_splits=len(data), shuffle=True, random_state = 7)\n",
    "rmse_list = []\n",
    "\n",
    "time_start = time.clock()\n",
    "for train_index, test_index in kf.split(data):\n",
    "    train = data.iloc[train_index]\n",
    "    test = data.iloc[test_index]\n",
    "    features = data.columns.drop(['SalePrice'])\n",
    "    \n",
    "    #train\n",
    "    lr.fit(train[features], train['SalePrice'])\n",
    "        \n",
    "    #predict    \n",
    "    predictions = lr.predict(test[features])\n",
    "        \n",
    "    rmse = mean_squared_error(test['SalePrice'], predictions)**0.5\n",
    "    rmse_list.append(rmse)    \n",
    "time_stop = time.clock()\n",
    "\n",
    "print('Processing time:')\n",
    "print(str(time_stop-time_start) + ' seconds')\n",
    "print('----')\n",
    "print('Average RMSE:')\n",
    "print(np.mean(rmse_list))"
   ]
  },
  {
   "cell_type": "markdown",
   "metadata": {},
   "source": [
    "It took my computer about 28 seconds to generate 1570 models and computing the error, which isn't so bad. This can get very time consuming/expensive if we had a very large dataset.\n",
    "\n",
    "### Average RMSE as K approaches n\n",
    "\n",
    "Let's see what happens if we plot all of this out. I've decided to measure the average RMSE from k=2 to k=1502 at intervals of 100. "
   ]
  },
  {
   "cell_type": "code",
   "execution_count": 6,
   "metadata": {},
   "outputs": [
    {
     "name": "stdout",
     "output_type": "stream",
     "text": [
      "Processing time:\n",
      "125.91830799470496 seconds\n"
     ]
    }
   ],
   "source": [
    "time_start = time.clock()\n",
    "\n",
    "rmse_kfolds = []\n",
    "for i in range(2, len(data),100):\n",
    "    kf = KFold(n_splits=i, shuffle=True, random_state = 7)\n",
    "    rmse_list = []\n",
    "    for train_index, test_index in kf.split(data):\n",
    "        train = data.iloc[train_index]\n",
    "        test = data.iloc[test_index]\n",
    "        features = data.columns.drop(['SalePrice'])\n",
    "    \n",
    "        #train\n",
    "        lr.fit(train[features], train['SalePrice'])\n",
    "        \n",
    "        #predict    \n",
    "        predictions = lr.predict(test[features])\n",
    "        \n",
    "        rmse = mean_squared_error(test['SalePrice'], predictions)**0.5\n",
    "        rmse_list.append(rmse)\n",
    "    rmse_kfolds.append(np.mean(rmse_list))\n",
    "time_stop = time.clock()\n",
    "\n",
    "print('Processing time:')\n",
    "print(str(time_stop-time_start) + ' seconds')\n",
    "\n"
   ]
  },
  {
   "cell_type": "code",
   "execution_count": 7,
   "metadata": {},
   "outputs": [
    {
     "data": {
      "image/png": "[encoded data removed]",
      "text/plain": [
       "<Figure size 432x288 with 1 Axes>"
      ]
     },
     "metadata": {
      "needs_background": "light"
     },
     "output_type": "display_data"
    }
   ],
   "source": [
    "import matplotlib.pyplot as plt\n",
    "%matplotlib inline\n",
    "\n",
    "x = [i for i in range(2, len(data),100)]\n",
    "y = rmse_kfolds \n",
    "plt.plot(x, y)\n",
    "plt.xlabel('Kfolds')\n",
    "plt.ylabel('Average RMSE')\n",
    "plt.show()"
   ]
  },
  {
   "cell_type": "markdown",
   "metadata": {},
   "source": [
    "### The Verdict\n",
    "\n",
    "As we increase the number of Kfolds, the average RMSE goes down. Does that mean we should maximize the number of KFolds each time? No!\n",
    "\n",
    "Cross validation is a model evaluation technique. We use different estimators such as linear regression, KNN, random forests etc. Then we evaluate the error on each estimator. \n",
    "\n",
    "With a small number of KFolds, such as K = 2:\n",
    "+ Computation time will be low\n",
    "+ Variance of the estimator will be low\n",
    "+ Bias of the estimator will be high (underfitting)\n",
    "\n",
    "With a large number of KFolds as K approachs n:\n",
    "+ Computation time will be high\n",
    "+ Bias of the estimator will be low\n",
    "+ Variance of the estimator will be high (overfitting)\n",
    "\n",
    "While the computational time is a concern, it is not the only thing we should worry about. For K = n, all the models will be similar, because we are only leaving one row out of the training set. This is great for lowering selection bias. Even though we generated n number of models, it is possible for all these models to be highly inaccurate. For more information on bias/variance click [here](https://en.wikipedia.org/wiki/Bias%E2%80%93variance_tradeoff) for the wikipedia page.\n",
    "\n",
    "To further explore this idea, let's take a look at what happens when we test our linear regression model with the same data as the training set."
   ]
  },
  {
   "cell_type": "code",
   "execution_count": 8,
   "metadata": {},
   "outputs": [
    {
     "name": "stdout",
     "output_type": "stream",
     "text": [
      "RMSE:\n",
      "30506.455820900163\n"
     ]
    }
   ],
   "source": [
    "#100% of the data as training set\n",
    "train = data\n",
    "\n",
    "#100% of the data as the test set\n",
    "test = data\n",
    "\n",
    "features = data.columns.drop(['SalePrice'])\n",
    "\n",
    "#train\n",
    "lr = LinearRegression()\n",
    "lr.fit(train[features], train['SalePrice'])\n",
    "\n",
    "#predict\n",
    "predictions = lr.predict(test[features])\n",
    "rmse = mean_squared_error(test['SalePrice'], predictions)**0.5\n",
    "print('RMSE:')\n",
    "print(rmse)"
   ]
  },
  {
   "cell_type": "markdown",
   "metadata": {},
   "source": [
    "If we use the same data for both the testing set and the training set, overfitting is a problem. As a result, this model is specific to the dataset. We got a RMSE value of 30506.\n",
    "\n",
    "We got an average RMSE value of 21428 from the leave one out validation method. So it is pretty clear that overfitting is an even greater problem in this case.\n",
    "\n",
    "In practice, the number of folds we should use depends on the dataset. If we have a small dataset, say ~500 rows and we use K = 2. The models will only have 250 rows as the training set. If we have a large dataset, say ~500,000 rows then using K = 2 might be acceptable.\n",
    "\n",
    "Most academic research papers use K = 10, but keep in mind their datasets are generally small. If we are working with big data, computation time becomes a problem. If that is the case, we should consider using a lower K value."
   ]
  },
  {
   "cell_type": "code",
   "execution_count": null,
   "metadata": {
    "collapsed": true
   },
   "outputs": [],
   "source": []
  }
 ],
 "metadata": {
  "kernelspec": {
   "display_name": "Python 3",
   "language": "python",
   "name": "python3"
  },
  "language_info": {
   "codemirror_mode": {
    "name": "ipython",
    "version": 3
   },
   "file_extension": ".py",
   "mimetype": "text/x-python",
   "name": "python",
   "nbconvert_exporter": "python",
   "pygments_lexer": "ipython3",
   "version": "3.6.7"
  }
 },
 "nbformat": 4,
 "nbformat_minor": 2
}

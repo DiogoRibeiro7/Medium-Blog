{
 "cells": [
  {
   "cell_type": "code",
   "execution_count": 1,
   "id": "20cf1d14",
   "metadata": {},
   "outputs": [
    {
     "name": "stdout",
     "output_type": "stream",
     "text": [
      "Prediction: 11.999999999999998\n",
      "Prediction Interval (at 95.0% confidence): (6.202241812562375, 17.797758187437623)\n"
     ]
    }
   ],
   "source": [
    "from sklearn.linear_model import LinearRegression\n",
    "from sklearn.model_selection import train_test_split\n",
    "import numpy as np\n",
    "\n",
    "# Sample data (replace this with your dataset)\n",
    "X = np.array([[1], [2], [3], [4], [5]])\n",
    "y = np.array([2, 4, 6, 8, 10])\n",
    "\n",
    "# Split data into training and test sets\n",
    "X_train, X_test, y_train, y_test = train_test_split(X, y, test_size=0.2, random_state=42)\n",
    "\n",
    "# Create and train a linear regression model\n",
    "regressor = LinearRegression()\n",
    "regressor.fit(X_train, y_train)\n",
    "\n",
    "# Make a prediction on a test instance\n",
    "test_instance = np.array([[6]])\n",
    "prediction = regressor.predict(test_instance)[0]\n",
    "\n",
    "# Calculate the prediction interval with a user-defined confidence level (e.g., 95%)\n",
    "confidence_level = 0.95\n",
    "prediction_interval = (prediction - np.std(y_train) * 1.96, prediction + np.std(y_train) * 1.96)\n",
    "\n",
    "print(f\"Prediction: {prediction}\")\n",
    "print(f\"Prediction Interval (at {confidence_level*100}% confidence): {prediction_interval}\")\n"
   ]
  },
  {
   "cell_type": "code",
   "execution_count": 2,
   "id": "96830831",
   "metadata": {},
   "outputs": [
    {
     "name": "stdout",
     "output_type": "stream",
     "text": [
      "Test Instance: 2, Prediction Interval: [2.0000000000000018, 6.0]\n"
     ]
    }
   ],
   "source": [
    "from sklearn.linear_model import LinearRegression\n",
    "from sklearn.model_selection import train_test_split\n",
    "import numpy as np\n",
    "\n",
    "# Sample data (replace this with your dataset)\n",
    "X = np.array([[1], [2], [3], [4], [5]])\n",
    "y = np.array([2, 4, 6, 8, 10])\n",
    "\n",
    "# Split data into training and test sets\n",
    "X_train, X_test, y_train, y_test = train_test_split(X, y, test_size=0.2, random_state=42)\n",
    "\n",
    "# Create and train a linear regression model\n",
    "regressor = LinearRegression()\n",
    "regressor.fit(X_train, y_train)\n",
    "\n",
    "# Define a nonconformity measure function (simple absolute difference in this case)\n",
    "def nonconformity_measure(y_true, y_pred):\n",
    "    return np.abs(y_true - y_pred)\n",
    "\n",
    "# Initialize the list to store prediction intervals\n",
    "prediction_intervals = []\n",
    "\n",
    "# Perform ICP for each test instance\n",
    "for test_instance, true_value in zip(X_test, y_test):\n",
    "    # Make a prediction on the test instance\n",
    "    prediction = regressor.predict(test_instance.reshape(1, -1))[0]\n",
    "    \n",
    "    # Calculate nonconformity score for the test instance\n",
    "    nc_score = nonconformity_measure(true_value, prediction)\n",
    "    \n",
    "    # Find the k-th smallest nonconformity score from the training set (k = 1 for ICP)\n",
    "    k = 1\n",
    "    k_smallest_nc = np.partition(nonconformity_measure(y_train, prediction), k-1)[k-1]\n",
    "    \n",
    "    # Calculate the p-value (proportion of training instances with nonconformity score >= k_smallest_nc)\n",
    "    p_value = np.sum(nonconformity_measure(y_train, prediction) >= k_smallest_nc) / len(y_train)\n",
    "    \n",
    "    # Define the significance level (1 - confidence level)\n",
    "    confidence_level = 0.95\n",
    "    significance = 1 - confidence_level\n",
    "    \n",
    "    # Calculate the prediction interval based on the p-value and significance level\n",
    "    lower_bound = prediction - k_smallest_nc if p_value > significance else prediction\n",
    "    upper_bound = prediction + k_smallest_nc if p_value > significance else prediction\n",
    "    \n",
    "    prediction_intervals.append((lower_bound, upper_bound))\n",
    "\n",
    "# Print the prediction intervals for each test instance\n",
    "for idx, test_instance in enumerate(X_test):\n",
    "    lower_bound, upper_bound = prediction_intervals[idx]\n",
    "    print(f\"Test Instance: {test_instance[0]}, Prediction Interval: [{lower_bound}, {upper_bound}]\")\n"
   ]
  },
  {
   "cell_type": "code",
   "execution_count": null,
   "id": "d873c110",
   "metadata": {},
   "outputs": [],
   "source": []
  }
 ],
 "metadata": {
  "kernelspec": {
   "display_name": "Python 3 (ipykernel)",
   "language": "python",
   "name": "python3"
  },
  "language_info": {
   "codemirror_mode": {
    "name": "ipython",
    "version": 3
   },
   "file_extension": ".py",
   "mimetype": "text/x-python",
   "name": "python",
   "nbconvert_exporter": "python",
   "pygments_lexer": "ipython3",
   "version": "3.9.13"
  }
 },
 "nbformat": 4,
 "nbformat_minor": 5
}

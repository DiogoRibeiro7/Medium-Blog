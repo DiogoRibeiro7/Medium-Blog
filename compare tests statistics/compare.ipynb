{
 "cells": [
  {
   "cell_type": "code",
   "execution_count": 1,
   "id": "b5be4b88",
   "metadata": {},
   "outputs": [
    {
     "name": "stdout",
     "output_type": "stream",
     "text": [
      "-3.1727429615431215 10.066297900021418 10.066297900021413 True\n"
     ]
    }
   ],
   "source": [
    "import numpy as np\n",
    "from scipy import stats\n",
    "# Revising the Python example to focus on the relationship t^2 = F in a two-sample t-test scenario\n",
    "\n",
    "def t_test_as_f_test(data1, data2):\n",
    "    \"\"\"\n",
    "    Perform a two-sample t-test and demonstrate how it relates to an F-test in this specific scenario.\n",
    "    \n",
    "    Parameters:\n",
    "    - data1: array-like, the first data set\n",
    "    - data2: array-like, the second data set\n",
    "    \n",
    "    Returns:\n",
    "    - t_stat: float, the t-statistic\n",
    "    - F_stat_from_t: float, the F-statistic derived from t\n",
    "    - F_stat: float, the F-statistic\n",
    "    - are_statistics_close: boolean, whether t^2 is close to F\n",
    "    \"\"\"\n",
    "    # Perform the two-sample t-test\n",
    "    t_stat, _ = stats.ttest_ind(data1, data2)\n",
    "    \n",
    "    # Calculate the F-statistic from the t-statistic\n",
    "    F_stat_from_t = t_stat ** 2\n",
    "    \n",
    "    # Calculate the F-statistic using one-way ANOVA\n",
    "    F_stat, _ = stats.f_oneway(data1, data2)\n",
    "    \n",
    "    # Check if t^2 is close to F\n",
    "    are_statistics_close = np.isclose(F_stat_from_t, F_stat)\n",
    "    \n",
    "    return t_stat, F_stat_from_t, F_stat, are_statistics_close\n",
    "\n",
    "# Test data sets\n",
    "data1 = np.random.normal(loc=20, scale=5, size=50)\n",
    "data2 = np.random.normal(loc=22, scale=5, size=50)\n",
    "\n",
    "# Perform the tests and check the relationship\n",
    "t_stat, F_stat_from_t, F_stat, are_statistics_close = t_test_as_f_test(data1, data2)\n",
    "\n",
    "print(t_stat, F_stat_from_t, F_stat, are_statistics_close)"
   ]
  },
  {
   "cell_type": "code",
   "execution_count": 2,
   "id": "f7e17d04",
   "metadata": {},
   "outputs": [
    {
     "name": "stdout",
     "output_type": "stream",
     "text": [
      "(-8.381698166667624, 3.117440373838272e-05) (1.4513540621865615, 0.3634672468622858) False\n"
     ]
    }
   ],
   "source": [
    "import numpy as np\n",
    "from scipy import stats\n",
    "\n",
    "def t_test_two_sample(data1, data2):\n",
    "    \"\"\"\n",
    "    Perform a two-sample t-test on the given data sets.\n",
    "    \n",
    "    Parameters:\n",
    "    - data1: array-like, the first data set\n",
    "    - data2: array-like, the second data set\n",
    "    \n",
    "    Returns:\n",
    "    - t_stat: float, the t-statistic\n",
    "    - p_value: float, the p-value\n",
    "    \"\"\"\n",
    "    t_stat, p_value = stats.ttest_ind(data1, data2)\n",
    "    return t_stat, p_value\n",
    "\n",
    "def f_test_two_sample(data1, data2):\n",
    "    \"\"\"\n",
    "    Perform an F-test to compare variances of two data sets.\n",
    "    \n",
    "    Parameters:\n",
    "    - data1: array-like, the first data set\n",
    "    - data2: array-like, the second data set\n",
    "    \n",
    "    Returns:\n",
    "    - F_stat: float, the F-statistic\n",
    "    - p_value: float, the p-value\n",
    "    \"\"\"\n",
    "    var1, var2 = np.var(data1, ddof=1), np.var(data2, ddof=1)\n",
    "    F_stat = var1 / var2\n",
    "    df1, df2 = len(data1) - 1, len(data2) - 1\n",
    "    p_value = 1 - stats.f.cdf(F_stat, df1, df2)\n",
    "    return F_stat, p_value\n",
    "\n",
    "# Test data sets\n",
    "data1 = np.array([25.5, 27.1, 28.8, 26.5, 27.2])\n",
    "data2 = np.array([32.9, 33.8, 33.4, 33.1, 31.2])\n",
    "\n",
    "# Perform t-test and F-test\n",
    "t_stat, t_p_value = t_test_two_sample(data1, data2)\n",
    "F_stat, F_p_value = f_test_two_sample(data1, data2)\n",
    "\n",
    "# Verify the relationship t^2 = F\n",
    "is_relationship_valid = np.isclose(t_stat**2, F_stat)\n",
    "\n",
    "print((t_stat, t_p_value), (F_stat, F_p_value), is_relationship_valid)"
   ]
  },
  {
   "cell_type": "code",
   "execution_count": null,
   "id": "34157d6c",
   "metadata": {},
   "outputs": [],
   "source": []
  }
 ],
 "metadata": {
  "kernelspec": {
   "display_name": "Python 3 (ipykernel)",
   "language": "python",
   "name": "python3"
  },
  "language_info": {
   "codemirror_mode": {
    "name": "ipython",
    "version": 3
   },
   "file_extension": ".py",
   "mimetype": "text/x-python",
   "name": "python",
   "nbconvert_exporter": "python",
   "pygments_lexer": "ipython3",
   "version": "3.9.13"
  }
 },
 "nbformat": 4,
 "nbformat_minor": 5
}

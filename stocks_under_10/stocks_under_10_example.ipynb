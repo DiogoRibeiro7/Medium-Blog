{
 "cells": [
  {
   "cell_type": "code",
   "execution_count": 1,
   "id": "93fefcbc",
   "metadata": {},
   "outputs": [
    {
     "name": "stderr",
     "output_type": "stream",
     "text": [
      "/var/folders/_8/pmt00p0n2zsgw2rvt0djf05m0000gp/T/ipykernel_88370/1208037992.py:28: FutureWarning: The frame.append method is deprecated and will be removed from pandas in a future version. Use pandas.concat instead.\n",
      "  stock_data = stock_data.append(hist_data)\n",
      "/var/folders/_8/pmt00p0n2zsgw2rvt0djf05m0000gp/T/ipykernel_88370/1208037992.py:28: FutureWarning: The frame.append method is deprecated and will be removed from pandas in a future version. Use pandas.concat instead.\n",
      "  stock_data = stock_data.append(hist_data)\n"
     ]
    },
    {
     "name": "stdout",
     "output_type": "stream",
     "text": [
      "                           Open   High    Low  Close   Volume  Dividends  \\\n",
      "Date                                                                       \n",
      "2022-08-19 00:00:00-04:00  3.00  3.200  2.810   3.16   149400        0.0   \n",
      "2022-08-22 00:00:00-04:00  3.05  3.070  3.010   3.02   100200        0.0   \n",
      "2022-08-23 00:00:00-04:00  3.02  3.490  3.020   3.44   404500        0.0   \n",
      "2022-08-24 00:00:00-04:00  3.44  3.550  3.380   3.40   181400        0.0   \n",
      "2022-08-25 00:00:00-04:00  3.44  3.490  3.350   3.40   131000        0.0   \n",
      "...                         ...    ...    ...    ...      ...        ...   \n",
      "2023-08-14 00:00:00-04:00  9.77  9.965  9.665   9.95  1629800        0.0   \n",
      "2023-08-15 00:00:00-04:00  9.87  9.900  9.645   9.74  1081800        0.0   \n",
      "2023-08-16 00:00:00-04:00  9.70  9.840  9.660   9.81   864400        0.0   \n",
      "2023-08-17 00:00:00-04:00  9.81  9.845  9.570   9.64  1159600        0.0   \n",
      "2023-08-18 00:00:00-04:00  9.50  9.605  9.360   9.39   852500        0.0   \n",
      "\n",
      "                           Stock Splits        RSI Ticker  \n",
      "Date                                                       \n",
      "2022-08-19 00:00:00-04:00           0.0        NaN   BWEN  \n",
      "2022-08-22 00:00:00-04:00           0.0        NaN   BWEN  \n",
      "2022-08-23 00:00:00-04:00           0.0        NaN   BWEN  \n",
      "2022-08-24 00:00:00-04:00           0.0        NaN   BWEN  \n",
      "2022-08-25 00:00:00-04:00           0.0        NaN   BWEN  \n",
      "...                                 ...        ...    ...  \n",
      "2023-08-14 00:00:00-04:00           0.0   9.215002   PLTK  \n",
      "2023-08-15 00:00:00-04:00           0.0   8.823515   PLTK  \n",
      "2023-08-16 00:00:00-04:00           0.0  11.074925   PLTK  \n",
      "2023-08-17 00:00:00-04:00           0.0  11.805560   PLTK  \n",
      "2023-08-18 00:00:00-04:00           0.0   7.920814   PLTK  \n",
      "\n",
      "[753 rows x 9 columns]\n"
     ]
    },
    {
     "name": "stderr",
     "output_type": "stream",
     "text": [
      "/var/folders/_8/pmt00p0n2zsgw2rvt0djf05m0000gp/T/ipykernel_88370/1208037992.py:28: FutureWarning: The frame.append method is deprecated and will be removed from pandas in a future version. Use pandas.concat instead.\n",
      "  stock_data = stock_data.append(hist_data)\n"
     ]
    }
   ],
   "source": [
    "import yfinance as yf\n",
    "import pandas as pd\n",
    "\n",
    "# List of stock tickers\n",
    "tickers = ['BWEN', 'STGW', 'PLTK']\n",
    "\n",
    "# Create an empty DataFrame to hold the stock data\n",
    "stock_data = pd.DataFrame()\n",
    "\n",
    "# Fetch and analyze stock data for each ticker\n",
    "for ticker in tickers:\n",
    "    # Download historical data\n",
    "    stock = yf.Ticker(ticker)\n",
    "    hist_data = stock.history(period=\"1y\")\n",
    "    \n",
    "    # Calculate 14-day RSI\n",
    "    delta = hist_data['Close'].diff(1)\n",
    "    gain = (delta.where(delta > 0, 0)).rolling(window=14).mean()\n",
    "    loss = (-delta.where(delta < 0, 0)).rolling(window=14).mean()\n",
    "    rs = gain / loss\n",
    "    rsi = 100 - (100 / (1 + rs))\n",
    "    \n",
    "    # Add RSI to historical data\n",
    "    hist_data['RSI'] = rsi\n",
    "    \n",
    "    # Append data to the main DataFrame\n",
    "    hist_data['Ticker'] = ticker\n",
    "    stock_data = stock_data.append(hist_data)\n",
    "\n",
    "# Print the DataFrame\n",
    "print(stock_data)\n",
    "\n",
    "# You can perform further analysis here\n"
   ]
  },
  {
   "cell_type": "code",
   "execution_count": 2,
   "id": "d91afab3",
   "metadata": {},
   "outputs": [],
   "source": [
    "# Calculate the 50-day moving average\n",
    "stock_data['50_MA'] = stock_data['Close'].rolling(window=50).mean()\n",
    "\n",
    "# Calculate the 200-day moving average\n",
    "stock_data['200_MA'] = stock_data['Close'].rolling(window=200).mean()\n",
    "\n",
    "# Calculate daily returns\n",
    "stock_data['Daily_Returns'] = stock_data['Close'].pct_change()\n",
    "\n",
    "# Calculate volatility (30-day standard deviation of daily returns)\n",
    "stock_data['Volatility'] = stock_data['Daily_Returns'].rolling(window=30).std()\n",
    "\n",
    "# Calculate Sharpe Ratio (assuming 0% risk-free rate)\n",
    "stock_data['Sharpe_Ratio'] = stock_data['Daily_Returns'].mean() / stock_data['Daily_Returns'].std()\n"
   ]
  },
  {
   "cell_type": "code",
   "execution_count": null,
   "id": "f1791550",
   "metadata": {},
   "outputs": [],
   "source": []
  }
 ],
 "metadata": {
  "kernelspec": {
   "display_name": "Python 3 (ipykernel)",
   "language": "python",
   "name": "python3"
  },
  "language_info": {
   "codemirror_mode": {
    "name": "ipython",
    "version": 3
   },
   "file_extension": ".py",
   "mimetype": "text/x-python",
   "name": "python",
   "nbconvert_exporter": "python",
   "pygments_lexer": "ipython3",
   "version": "3.9.13"
  }
 },
 "nbformat": 4,
 "nbformat_minor": 5
}
